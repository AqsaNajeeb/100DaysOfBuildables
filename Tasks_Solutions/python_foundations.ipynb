{
  "nbformat": 4,
  "nbformat_minor": 0,
  "metadata": {
    "colab": {
      "provenance": []
    },
    "kernelspec": {
      "name": "python3",
      "display_name": "Python 3"
    },
    "language_info": {
      "name": "python"
    }
  },
  "cells": [
    {
      "cell_type": "markdown",
      "source": [
        "# Python Foundations"
      ],
      "metadata": {
        "id": "UT5xd22jlvP5"
      }
    },
    {
      "cell_type": "markdown",
      "source": [
        "### Task 1: Variables & Data Types"
      ],
      "metadata": {
        "id": "VKh4RM7JmXTx"
      }
    },
    {
      "cell_type": "markdown",
      "source": [
        "#### Create variables of type int, float, string, and list. Print their values and types."
      ],
      "metadata": {
        "id": "PMfjBO6VmjrJ"
      }
    },
    {
      "cell_type": "code",
      "execution_count": null,
      "metadata": {
        "colab": {
          "base_uri": "https://localhost:8080/"
        },
        "id": "wNNQ1_vtlLFT",
        "outputId": "29915bbe-9c8f-4a15-90c1-790a9399c4f7"
      },
      "outputs": [
        {
          "output_type": "stream",
          "name": "stdout",
          "text": [
            "64 <class 'int'>\n",
            "32.986 <class 'float'>\n",
            "Hello Talent <class 'str'>\n",
            "[2, 4, 6, 8] <class 'list'>\n"
          ]
        }
      ],
      "source": [
        "var_int = 64\n",
        "var_float = 32.986\n",
        "var_str = 'Hello Talent'\n",
        "var_list = [2,4,6,8]\n",
        "\n",
        "print(var_int, type(var_int))\n",
        "print(var_float, type(var_float))\n",
        "print(var_str, type(var_str))\n",
        "print(var_list, type(var_list))"
      ]
    },
    {
      "cell_type": "markdown",
      "source": [
        "### Task 2: Conditionals"
      ],
      "metadata": {
        "id": "9TmPawLun_cR"
      }
    },
    {
      "cell_type": "markdown",
      "source": [
        "#### Write a program that checks whether a given number is positive, negative, or zero."
      ],
      "metadata": {
        "id": "hCEh89gAoMoC"
      }
    },
    {
      "cell_type": "code",
      "source": [
        "num = float(input('Enter a number: '))\n",
        "\n",
        "if num > 0:\n",
        "  print(str(num) + ' is a positive number')\n",
        "elif num < 0:\n",
        "  print(str(num) + ' is a negative number')\n",
        "else:\n",
        "  print(str(num) + ' is zero')"
      ],
      "metadata": {
        "colab": {
          "base_uri": "https://localhost:8080/"
        },
        "id": "Zf__7T7un0ce",
        "outputId": "38905cf5-350f-4b41-82f7-44b698241555"
      },
      "execution_count": null,
      "outputs": [
        {
          "output_type": "stream",
          "name": "stdout",
          "text": [
            "Enter a number: 7\n",
            "7.0 is a positive number\n"
          ]
        }
      ]
    },
    {
      "cell_type": "markdown",
      "source": [
        "### Task 3: Loops"
      ],
      "metadata": {
        "id": "YUJdizvLoUnm"
      }
    },
    {
      "cell_type": "markdown",
      "source": [
        "#### Write a program to print the first 10 natural numbers using a loop."
      ],
      "metadata": {
        "id": "gUfNM6FOoaRr"
      }
    },
    {
      "cell_type": "code",
      "source": [
        "print('First 10 natural numbers: ')\n",
        "i = 1\n",
        "while (i<=10):\n",
        "  print(i)\n",
        "  i += 1"
      ],
      "metadata": {
        "colab": {
          "base_uri": "https://localhost:8080/"
        },
        "id": "SbS92HdLoZqJ",
        "outputId": "0be33645-0086-41c5-c30f-381a3b6d6a44"
      },
      "execution_count": 3,
      "outputs": [
        {
          "output_type": "stream",
          "name": "stdout",
          "text": [
            "First 10 natural numbers: \n",
            "1\n",
            "2\n",
            "3\n",
            "4\n",
            "5\n",
            "6\n",
            "7\n",
            "8\n",
            "9\n",
            "10\n"
          ]
        }
      ]
    },
    {
      "cell_type": "markdown",
      "source": [
        "#### Write a program to calculate the factorial of a number using a loop."
      ],
      "metadata": {
        "id": "PFvX0DsVon_d"
      }
    },
    {
      "cell_type": "code",
      "source": [
        "num = int(input('Enter a number: '))\n",
        "fact = 1\n",
        "\n",
        "for i in range(1,num+1):\n",
        "  fact = fact*i\n",
        "\n",
        "print(str(num) + '! = ' + str(fact))\n"
      ],
      "metadata": {
        "id": "w8BIKdeoopCg",
        "colab": {
          "base_uri": "https://localhost:8080/"
        },
        "outputId": "7e179cba-26af-4209-c7b1-b2df57afbde3"
      },
      "execution_count": null,
      "outputs": [
        {
          "output_type": "stream",
          "name": "stdout",
          "text": [
            "Enter a number: 5\n",
            "5! = 120\n"
          ]
        }
      ]
    },
    {
      "cell_type": "markdown",
      "source": [
        "### Task 4: Functions"
      ],
      "metadata": {
        "id": "xPcDj2Y6osa1"
      }
    },
    {
      "cell_type": "markdown",
      "source": [
        "#### Write a function greet(name) that prints \"Hello, <name>!\"."
      ],
      "metadata": {
        "id": "gEVhLihUov84"
      }
    },
    {
      "cell_type": "code",
      "source": [
        "def greet(name):\n",
        "  print('Hello, ' + name + '!')\n",
        "\n",
        "greet('Mala')"
      ],
      "metadata": {
        "id": "b81tJZwEougM",
        "colab": {
          "base_uri": "https://localhost:8080/"
        },
        "outputId": "fae1bc54-0def-45e6-f231-90f93577b22e"
      },
      "execution_count": null,
      "outputs": [
        {
          "output_type": "stream",
          "name": "stdout",
          "text": [
            "Hello, Mala!\n"
          ]
        }
      ]
    },
    {
      "cell_type": "markdown",
      "source": [
        "#### Write a function is_even(num) that returns True if a number is even, False otherwise."
      ],
      "metadata": {
        "id": "R9G_JwaAo7qA"
      }
    },
    {
      "cell_type": "code",
      "source": [
        "def is_even(num):\n",
        "  if num%2 == 0:\n",
        "    return True\n",
        "  else:\n",
        "    return False\n",
        "\n",
        "print(is_even(10))\n",
        "print(is_even(17))"
      ],
      "metadata": {
        "id": "T5qaaYP_o814",
        "colab": {
          "base_uri": "https://localhost:8080/"
        },
        "outputId": "a8d7fc86-5682-4e7e-c698-34779a5fbe6b"
      },
      "execution_count": null,
      "outputs": [
        {
          "output_type": "stream",
          "name": "stdout",
          "text": [
            "True\n",
            "False\n"
          ]
        }
      ]
    },
    {
      "cell_type": "markdown",
      "source": [
        "### Task 5: List Operations"
      ],
      "metadata": {
        "id": "bYXwvpjho-WZ"
      }
    },
    {
      "cell_type": "markdown",
      "source": [
        "#### Create a list of 5 numbers. Find the max, min, sum, and average using built-in functions. Sort the list and reverse it."
      ],
      "metadata": {
        "id": "NIGg96HMpDPK"
      }
    },
    {
      "cell_type": "code",
      "source": [
        "list_num = [20,87,11,54,92]\n",
        "\n",
        "print('Numbers:',list_num)\n",
        "print('Maximum:',max(list_num))\n",
        "print('Minimum:',min(list_num))\n",
        "print('Sum:',sum(list_num))\n",
        "print('Average:',sum(list_num) / len(list_num))\n",
        "\n",
        "list_num.sort()\n",
        "print('Sorted List:',list_num)\n",
        "list_num.reverse()\n",
        "print('Reverse List:',list_num)"
      ],
      "metadata": {
        "id": "XqrF--bopCqg",
        "colab": {
          "base_uri": "https://localhost:8080/"
        },
        "outputId": "922251ce-79c8-45f3-8ae5-4fd96a2f25af"
      },
      "execution_count": 10,
      "outputs": [
        {
          "output_type": "stream",
          "name": "stdout",
          "text": [
            "Numbers: [20, 87, 11, 54, 92]\n",
            "Maximum: 92\n",
            "Minimum: 11\n",
            "Sum: 264\n",
            "Average: 52.8\n",
            "Sorted List: [11, 20, 54, 87, 92]\n",
            "Reverse List: [92, 87, 54, 20, 11]\n"
          ]
        }
      ]
    },
    {
      "cell_type": "markdown",
      "source": [
        "### Task 6:  Input/Output"
      ],
      "metadata": {
        "id": "-loO8XYzpMdp"
      }
    },
    {
      "cell_type": "markdown",
      "source": [
        "#### Write a program that takes a user’s name and age as input and prints:\n",
        "\"Hello <name>, you are <age> years old.\""
      ],
      "metadata": {
        "id": "JE_mLJkVpRpU"
      }
    },
    {
      "cell_type": "code",
      "source": [
        "name = input('Enter your name: ')\n",
        "age = int(input('Enter your age: '))\n",
        "\n",
        "print('\\\"Hello ' + name + ', you are ' + str(age) + ' years old.\\\"')"
      ],
      "metadata": {
        "id": "6B7TXST6pOZV",
        "colab": {
          "base_uri": "https://localhost:8080/"
        },
        "outputId": "28d0c1b7-11c2-4ed2-f98c-70449dabb95d"
      },
      "execution_count": 11,
      "outputs": [
        {
          "output_type": "stream",
          "name": "stdout",
          "text": [
            "Enter your name: Mala\n",
            "Enter your age: 20\n",
            "\"Hello Mala, you are 20 years old.\"\n"
          ]
        }
      ]
    }
  ]
}