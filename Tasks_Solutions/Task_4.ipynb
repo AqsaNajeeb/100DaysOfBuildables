{
  "nbformat": 4,
  "nbformat_minor": 0,
  "metadata": {
    "colab": {
      "provenance": []
    },
    "kernelspec": {
      "name": "python3",
      "display_name": "Python 3"
    },
    "language_info": {
      "name": "python"
    }
  },
  "cells": [
    {
      "cell_type": "markdown",
      "source": [
        "# Statistics & Math Functions"
      ],
      "metadata": {
        "id": "jEm7KV5e0AtA"
      }
    },
    {
      "cell_type": "markdown",
      "source": [
        "###### In this notebook, I will implement basic statistical and mathematical functions using Python. These include mean, median, mode, variance, standard deviation, Euclidean distance, and sigmoid function."
      ],
      "metadata": {
        "id": "WEDCV7eO0HtX"
      }
    },
    {
      "cell_type": "markdown",
      "source": [
        "## Import Libraries"
      ],
      "metadata": {
        "id": "ULlMVYoD0TED"
      }
    },
    {
      "cell_type": "code",
      "execution_count": 2,
      "metadata": {
        "id": "fCb_N7gDzucs"
      },
      "outputs": [],
      "source": [
        "import math\n",
        "import statistics as stats"
      ]
    },
    {
      "cell_type": "markdown",
      "source": [
        "## Mean"
      ],
      "metadata": {
        "id": "t73TNCEn254n"
      }
    },
    {
      "cell_type": "code",
      "source": [
        "def mean(numbers):\n",
        "  return sum(numbers) / len(numbers)\n",
        "\n",
        "numbers = [3,87,22,19,39,8,95]\n",
        "\n",
        "mean = mean(numbers)\n",
        "print(mean)"
      ],
      "metadata": {
        "colab": {
          "base_uri": "https://localhost:8080/"
        },
        "id": "xh9EivEK0Zej",
        "outputId": "5f64bb47-364d-4f06-9544-b1b05f79f83b"
      },
      "execution_count": 8,
      "outputs": [
        {
          "output_type": "stream",
          "name": "stdout",
          "text": [
            "39.0\n"
          ]
        }
      ]
    },
    {
      "cell_type": "markdown",
      "source": [
        "##### This function finds the average value in the list. It shows the central number by dividing the total sum by the count. It helps to know the overall trend of the data.\n"
      ],
      "metadata": {
        "id": "hesy7idHGRNv"
      }
    },
    {
      "cell_type": "markdown",
      "source": [
        "## Median"
      ],
      "metadata": {
        "id": "yTMmRTdR5FG7"
      }
    },
    {
      "cell_type": "code",
      "source": [
        "def median(numbers):\n",
        "  numbers = sorted(numbers)\n",
        "  print(numbers)\n",
        "  n = len(numbers)\n",
        "  mid = n // 2\n",
        "\n",
        "  if n % 2 == 0:\n",
        "    return (numbers[mid - 1] + numbers[mid]) / 2\n",
        "  else:\n",
        "    return numbers[mid]\n",
        "\n",
        "numbers = [3,87,22,19,39,8,95,56]\n",
        "\n",
        "median = median(numbers)\n",
        "print(median)"
      ],
      "metadata": {
        "colab": {
          "base_uri": "https://localhost:8080/"
        },
        "id": "PYBkZbgZ3wwP",
        "outputId": "9a72ee68-404e-48a9-cc03-f23691b18ae2"
      },
      "execution_count": 13,
      "outputs": [
        {
          "output_type": "stream",
          "name": "stdout",
          "text": [
            "[3, 8, 19, 22, 39, 56, 87, 95]\n",
            "30.5\n"
          ]
        }
      ]
    },
    {
      "cell_type": "markdown",
      "source": [
        "##### This function finds the middle value in the data after sorting it. If the list has an odd count, it picks the middle number, otherwise it averages the two middle numbers. The median is useful to understand the center of the data. It is especially beneficial when the data is skewed or has outliers.\n"
      ],
      "metadata": {
        "id": "Z-Hf4xwKGxkw"
      }
    },
    {
      "cell_type": "markdown",
      "source": [
        "## Mode"
      ],
      "metadata": {
        "id": "vKTbEYhm7rp_"
      }
    },
    {
      "cell_type": "code",
      "source": [
        "def mode(numbers):\n",
        "    counts = {}\n",
        "    for num in numbers:\n",
        "        counts[num] = counts.get(num, 0) + 1\n",
        "\n",
        "    max_count = max(counts.values())\n",
        "    modes = [num for num, count in counts.items() if count == max_count]\n",
        "\n",
        "    return modes\n",
        "\n",
        "numbers = [3,87,22,19,3,8,95,19]\n",
        "\n",
        "mode = mode(numbers)\n",
        "print(mode)"
      ],
      "metadata": {
        "colab": {
          "base_uri": "https://localhost:8080/"
        },
        "id": "m-Zl-ptx7UMf",
        "outputId": "252b0fc7-2164-4632-f3e1-d201e5a63656"
      },
      "execution_count": 30,
      "outputs": [
        {
          "output_type": "stream",
          "name": "stdout",
          "text": [
            "[3, 19]\n"
          ]
        }
      ]
    },
    {
      "cell_type": "markdown",
      "source": [
        "##### This function finds the value(s) that appear most often in the list. It counts how many times each number occurs and returns the ones with the highest frequency. The mode is useful when we want to know the most common value in the data. It is especially beneficial in categorical or repeating datasets.\n"
      ],
      "metadata": {
        "id": "5NHuJ39RHEvm"
      }
    },
    {
      "cell_type": "markdown",
      "source": [
        "## Variance"
      ],
      "metadata": {
        "id": "G3dN8gw4AN47"
      }
    },
    {
      "cell_type": "markdown",
      "source": [
        "#### Population Variance"
      ],
      "metadata": {
        "id": "hXCF0D9hA-ua"
      }
    },
    {
      "cell_type": "code",
      "source": [
        "def variance(numbers):\n",
        "  mean = stats.mean(numbers)\n",
        "  variance = sum((x - mean) ** 2 for x in numbers) / len(numbers)\n",
        "  return variance\n",
        "\n",
        "numbers = [3,87,22,19,39,8,95]\n",
        "\n",
        "variance = variance(numbers)\n",
        "print(variance)"
      ],
      "metadata": {
        "colab": {
          "base_uri": "https://localhost:8080/"
        },
        "id": "qlADjDaz9ZBs",
        "outputId": "25806aae-7621-459e-de7c-bbcdb1beb5f7"
      },
      "execution_count": 21,
      "outputs": [
        {
          "output_type": "stream",
          "name": "stdout",
          "text": [
            "1198.0\n"
          ]
        }
      ]
    },
    {
      "cell_type": "markdown",
      "source": [
        "##### This function measures how spread out the numbers are from the mean. It calculates the average of the squared differences from the mean. A higher variance means the data is more spread out, while a lower variance means the data is closer to the mean. This version is for population variance since we divide by the total number of values.\n"
      ],
      "metadata": {
        "id": "RgEKQX5QH3Gt"
      }
    },
    {
      "cell_type": "markdown",
      "source": [
        "#### Sample Variance"
      ],
      "metadata": {
        "id": "C00INUQlBcHn"
      }
    },
    {
      "cell_type": "code",
      "source": [
        "def variance(numbers):\n",
        "  mean = stats.mean(numbers)\n",
        "  variance = sum((x - mean) ** 2 for x in numbers) / (len(numbers) - 1)\n",
        "  return variance\n",
        "\n",
        "numbers = [3,87,22,19,39,8,95]\n",
        "\n",
        "variance = variance(numbers)\n",
        "print(variance)"
      ],
      "metadata": {
        "colab": {
          "base_uri": "https://localhost:8080/"
        },
        "id": "4MMH4RLZBdOi",
        "outputId": "70a2a490-6d72-4656-840d-1b6e0e6fe608"
      },
      "execution_count": 23,
      "outputs": [
        {
          "output_type": "stream",
          "name": "stdout",
          "text": [
            "1397.6666666666667\n"
          ]
        }
      ]
    },
    {
      "cell_type": "markdown",
      "source": [
        "##### This function measures how much the data values spread out from the mean. It divides by (n-1), not n, which makes it sample variance. This adjustment is done to make the estimate unbiased when using a sample. Sample variance is useful when the whole population data is not available.\n"
      ],
      "metadata": {
        "id": "2Kj-AZK3IQIx"
      }
    },
    {
      "cell_type": "markdown",
      "source": [
        "## Standard Deviation"
      ],
      "metadata": {
        "id": "zDnCNqGYCBj4"
      }
    },
    {
      "cell_type": "code",
      "source": [
        "def std_dev(numbers):\n",
        "    return math.sqrt(stats.variance(numbers))\n",
        "\n",
        "numbers = [3,87,22,19,39,8,95]\n",
        "\n",
        "std_dev = std_dev(numbers)\n",
        "print(std_dev)"
      ],
      "metadata": {
        "colab": {
          "base_uri": "https://localhost:8080/"
        },
        "id": "PXYebwYkBr8G",
        "outputId": "7c8a5630-a957-4610-acaf-90343d4d4d78"
      },
      "execution_count": 27,
      "outputs": [
        {
          "output_type": "stream",
          "name": "stdout",
          "text": [
            "37.38538038681253\n"
          ]
        }
      ]
    },
    {
      "cell_type": "markdown",
      "source": [
        "##### This function shows how much the data values vary from the mean on average. It is the square root of variance, so it is in the same units as the data. Since it uses sample variance, it is also an unbiased estimate of population spread. Standard deviation is widely used to understand consistency and variation in data."
      ],
      "metadata": {
        "id": "91pDxMU2IkQg"
      }
    },
    {
      "cell_type": "markdown",
      "source": [
        "## Euclidean Distance"
      ],
      "metadata": {
        "id": "L37liclmC58P"
      }
    },
    {
      "cell_type": "code",
      "source": [
        "def euclidean_distance(x, y):\n",
        "    # If both are single numbers\n",
        "    if type(x) in [int, float] and type(y) in [int, float]:\n",
        "        return abs(x - y)\n",
        "\n",
        "    # If both are lists (vectors)\n",
        "    return math.sqrt(sum((a - b) ** 2 for a, b in zip(x, y)))\n",
        "\n",
        "print(\"Euclidean Distance (values):\", euclidean_distance(3, 7))\n",
        "print(\"Euclidean Distance (lists):\", euclidean_distance([1,2,3], [4,5,6]))"
      ],
      "metadata": {
        "colab": {
          "base_uri": "https://localhost:8080/"
        },
        "id": "2OkoBTYOCOk5",
        "outputId": "790b6a7f-26b6-44c8-ee2e-fa27438c8d7f"
      },
      "execution_count": 28,
      "outputs": [
        {
          "output_type": "stream",
          "name": "stdout",
          "text": [
            "Euclidean Distance (values): 4\n",
            "Euclidean Distance (lists): 5.196152422706632\n"
          ]
        }
      ]
    },
    {
      "cell_type": "markdown",
      "source": [
        "##### This function finds how far two numbers or lists are from each other. For numbers it gives the difference, and for lists it measures the straight-line distance. It is useful in maths and machine learning to compare data points.\n"
      ],
      "metadata": {
        "id": "etKPymctIxA5"
      }
    },
    {
      "cell_type": "markdown",
      "source": [
        "## Sigmoid Function"
      ],
      "metadata": {
        "id": "jfBdO3R6DjJy"
      }
    },
    {
      "cell_type": "code",
      "source": [
        "def sigmoid(x):\n",
        "    return 1 / (1 + math.exp(-x))\n",
        "\n",
        "print(\"Sigmoid(0):\", sigmoid(0))\n",
        "print(\"Sigmoid(2):\", sigmoid(2))"
      ],
      "metadata": {
        "colab": {
          "base_uri": "https://localhost:8080/"
        },
        "id": "O0Z0rgF0DGyN",
        "outputId": "8a155718-d5f3-4996-a8db-35fbf2a79864"
      },
      "execution_count": 29,
      "outputs": [
        {
          "output_type": "stream",
          "name": "stdout",
          "text": [
            "Sigmoid(0): 0.5\n",
            "Sigmoid(2): 0.8807970779778823\n"
          ]
        }
      ]
    },
    {
      "cell_type": "markdown",
      "source": [
        "##### This function changes any number into a value between 0 and 1. Positive numbers go closer to 1, negative numbers closer to 0, and 0 becomes 0.5. It is useful in machine learning for converting values into probabilities. The sigmoid makes the output easy to understand and compare."
      ],
      "metadata": {
        "id": "FgmtqMgpJNHC"
      }
    }
  ]
}