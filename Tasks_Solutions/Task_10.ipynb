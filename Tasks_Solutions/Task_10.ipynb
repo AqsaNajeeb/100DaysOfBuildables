{
  "nbformat": 4,
  "nbformat_minor": 0,
  "metadata": {
    "colab": {
      "provenance": []
    },
    "kernelspec": {
      "name": "python3",
      "display_name": "Python 3"
    },
    "language_info": {
      "name": "python"
    }
  },
  "cells": [
    {
      "cell_type": "markdown",
      "source": [
        "# Stroke Prediction - Baseline Model & Improvements\n",
        "\n",
        "This notebook demonstrates training a **baseline Logistic Regression model**  \n",
        "and then explores **improvements** such as class balancing, oversampling (SMOTE), and tree-based models.  \n",
        "\n",
        "We will compare **train vs test accuracy**, and **F1 score**.  "
      ],
      "metadata": {
        "id": "LBYww536-tS1"
      }
    },
    {
      "cell_type": "code",
      "execution_count": 7,
      "metadata": {
        "id": "qV6Up-02-ivt"
      },
      "outputs": [],
      "source": [
        "import pandas as pd\n",
        "import numpy as np\n",
        "from sklearn.model_selection import train_test_split\n",
        "from sklearn.preprocessing import StandardScaler, LabelEncoder\n",
        "from sklearn.linear_model import LogisticRegression\n",
        "from sklearn.metrics import accuracy_score, f1_score, mean_absolute_error, classification_report, confusion_matrix\n",
        "from imblearn.over_sampling import SMOTE\n",
        "from sklearn.ensemble import RandomForestClassifier\n",
        "import matplotlib.pyplot as plt\n",
        "import seaborn as sns"
      ]
    },
    {
      "cell_type": "code",
      "source": [
        "# Load dataset\n",
        "df = pd.read_csv(\"healthcare-dataset-stroke-data.csv\")\n",
        "\n",
        "# Drop ID column\n",
        "df = df.drop(\"id\", axis=1)\n",
        "\n",
        "# Handle missing values\n",
        "df[\"bmi\"].fillna(df[\"bmi\"].mean(), inplace=True)\n",
        "\n",
        "# Encode categorical variables\n",
        "le = LabelEncoder()\n",
        "for col in df.select_dtypes(include=\"object\").columns:\n",
        "    df[col] = le.fit_transform(df[col])\n",
        "\n",
        "df.isnull().sum()  # check no missing values remain"
      ],
      "metadata": {
        "colab": {
          "base_uri": "https://localhost:8080/",
          "height": 570
        },
        "id": "xUjpXHDi-08n",
        "outputId": "7bbf2066-77b4-49bd-a2a7-f0dfc254a599"
      },
      "execution_count": 8,
      "outputs": [
        {
          "output_type": "stream",
          "name": "stderr",
          "text": [
            "/tmp/ipython-input-3921128304.py:8: FutureWarning: A value is trying to be set on a copy of a DataFrame or Series through chained assignment using an inplace method.\n",
            "The behavior will change in pandas 3.0. This inplace method will never work because the intermediate object on which we are setting values always behaves as a copy.\n",
            "\n",
            "For example, when doing 'df[col].method(value, inplace=True)', try using 'df.method({col: value}, inplace=True)' or df[col] = df[col].method(value) instead, to perform the operation inplace on the original object.\n",
            "\n",
            "\n",
            "  df[\"bmi\"].fillna(df[\"bmi\"].mean(), inplace=True)\n"
          ]
        },
        {
          "output_type": "execute_result",
          "data": {
            "text/plain": [
              "gender               0\n",
              "age                  0\n",
              "hypertension         0\n",
              "heart_disease        0\n",
              "ever_married         0\n",
              "work_type            0\n",
              "Residence_type       0\n",
              "avg_glucose_level    0\n",
              "bmi                  0\n",
              "smoking_status       0\n",
              "stroke               0\n",
              "dtype: int64"
            ],
            "text/html": [
              "<div>\n",
              "<style scoped>\n",
              "    .dataframe tbody tr th:only-of-type {\n",
              "        vertical-align: middle;\n",
              "    }\n",
              "\n",
              "    .dataframe tbody tr th {\n",
              "        vertical-align: top;\n",
              "    }\n",
              "\n",
              "    .dataframe thead th {\n",
              "        text-align: right;\n",
              "    }\n",
              "</style>\n",
              "<table border=\"1\" class=\"dataframe\">\n",
              "  <thead>\n",
              "    <tr style=\"text-align: right;\">\n",
              "      <th></th>\n",
              "      <th>0</th>\n",
              "    </tr>\n",
              "  </thead>\n",
              "  <tbody>\n",
              "    <tr>\n",
              "      <th>gender</th>\n",
              "      <td>0</td>\n",
              "    </tr>\n",
              "    <tr>\n",
              "      <th>age</th>\n",
              "      <td>0</td>\n",
              "    </tr>\n",
              "    <tr>\n",
              "      <th>hypertension</th>\n",
              "      <td>0</td>\n",
              "    </tr>\n",
              "    <tr>\n",
              "      <th>heart_disease</th>\n",
              "      <td>0</td>\n",
              "    </tr>\n",
              "    <tr>\n",
              "      <th>ever_married</th>\n",
              "      <td>0</td>\n",
              "    </tr>\n",
              "    <tr>\n",
              "      <th>work_type</th>\n",
              "      <td>0</td>\n",
              "    </tr>\n",
              "    <tr>\n",
              "      <th>Residence_type</th>\n",
              "      <td>0</td>\n",
              "    </tr>\n",
              "    <tr>\n",
              "      <th>avg_glucose_level</th>\n",
              "      <td>0</td>\n",
              "    </tr>\n",
              "    <tr>\n",
              "      <th>bmi</th>\n",
              "      <td>0</td>\n",
              "    </tr>\n",
              "    <tr>\n",
              "      <th>smoking_status</th>\n",
              "      <td>0</td>\n",
              "    </tr>\n",
              "    <tr>\n",
              "      <th>stroke</th>\n",
              "      <td>0</td>\n",
              "    </tr>\n",
              "  </tbody>\n",
              "</table>\n",
              "</div><br><label><b>dtype:</b> int64</label>"
            ]
          },
          "metadata": {},
          "execution_count": 8
        }
      ]
    },
    {
      "cell_type": "code",
      "source": [
        "X = df.drop(\"stroke\", axis=1)\n",
        "y = df[\"stroke\"]\n",
        "\n",
        "X_train, X_test, y_train, y_test = train_test_split(\n",
        "    X, y, test_size=0.2, random_state=42, stratify=y\n",
        ")\n",
        "\n",
        "scaler = StandardScaler()\n",
        "X_train_scaled = scaler.fit_transform(X_train)\n",
        "X_test_scaled = scaler.transform(X_test)"
      ],
      "metadata": {
        "id": "tyfdW68v-9ep"
      },
      "execution_count": 9,
      "outputs": []
    },
    {
      "cell_type": "code",
      "source": [
        "log_reg = LogisticRegression(max_iter=1000, random_state=42)\n",
        "log_reg.fit(X_train_scaled, y_train)\n",
        "\n",
        "y_train_pred = log_reg.predict(X_train_scaled)\n",
        "y_test_pred = log_reg.predict(X_test_scaled)\n",
        "\n",
        "print(\"Train Accuracy:\", accuracy_score(y_train, y_train_pred))\n",
        "print(\"Test Accuracy:\", accuracy_score(y_test, y_test_pred))\n",
        "print(\"Train F1:\", f1_score(y_train, y_train_pred))\n",
        "print(\"Test F1:\", f1_score(y_test, y_test_pred))\n",
        "print(\"Test MAE:\", mean_absolute_error(y_test, y_test_pred))\n",
        "\n",
        "print(\"\\nClassification Report (Test):\\n\", classification_report(y_test, y_test_pred))\n",
        "\n",
        "# Confusion Matrix\n",
        "cm = confusion_matrix(y_test, y_test_pred)\n",
        "sns.heatmap(cm, annot=True, fmt=\"d\", cmap=\"Blues\",\n",
        "            xticklabels=[\"No Stroke\",\"Stroke\"],\n",
        "            yticklabels=[\"No Stroke\",\"Stroke\"])\n",
        "plt.title(\"Confusion Matrix - Baseline Logistic Regression\")\n",
        "plt.xlabel(\"Predicted\")\n",
        "plt.ylabel(\"Actual\")\n",
        "plt.show()"
      ],
      "metadata": {
        "colab": {
          "base_uri": "https://localhost:8080/",
          "height": 874
        },
        "id": "y8XLWSEd_FOZ",
        "outputId": "1922556c-48fd-4f99-cd81-26726ba32011"
      },
      "execution_count": 10,
      "outputs": [
        {
          "output_type": "stream",
          "name": "stdout",
          "text": [
            "Train Accuracy: 0.951320939334638\n",
            "Test Accuracy: 0.9510763209393346\n",
            "Train F1: 0.0\n",
            "Test F1: 0.0\n",
            "Test MAE: 0.04892367906066536\n",
            "\n",
            "Classification Report (Test):\n",
            "               precision    recall  f1-score   support\n",
            "\n",
            "           0       0.95      1.00      0.97       972\n",
            "           1       0.00      0.00      0.00        50\n",
            "\n",
            "    accuracy                           0.95      1022\n",
            "   macro avg       0.48      0.50      0.49      1022\n",
            "weighted avg       0.90      0.95      0.93      1022\n",
            "\n"
          ]
        },
        {
          "output_type": "stream",
          "name": "stderr",
          "text": [
            "/usr/local/lib/python3.12/dist-packages/sklearn/metrics/_classification.py:1565: UndefinedMetricWarning: Precision is ill-defined and being set to 0.0 in labels with no predicted samples. Use `zero_division` parameter to control this behavior.\n",
            "  _warn_prf(average, modifier, f\"{metric.capitalize()} is\", len(result))\n",
            "/usr/local/lib/python3.12/dist-packages/sklearn/metrics/_classification.py:1565: UndefinedMetricWarning: Precision is ill-defined and being set to 0.0 in labels with no predicted samples. Use `zero_division` parameter to control this behavior.\n",
            "  _warn_prf(average, modifier, f\"{metric.capitalize()} is\", len(result))\n",
            "/usr/local/lib/python3.12/dist-packages/sklearn/metrics/_classification.py:1565: UndefinedMetricWarning: Precision is ill-defined and being set to 0.0 in labels with no predicted samples. Use `zero_division` parameter to control this behavior.\n",
            "  _warn_prf(average, modifier, f\"{metric.capitalize()} is\", len(result))\n"
          ]
        },
        {
          "output_type": "display_data",
          "data": {
            "text/plain": [
              "<Figure size 640x480 with 2 Axes>"
            ],
            "image/png": "[encoded data removed]"
          },
          "metadata": {}
        }
      ]
    },
    {
      "cell_type": "markdown",
      "source": [
        "## ⚖️ Improvement 1: Logistic Regression with Class Weights\n",
        "To handle class imbalance, we use `class_weight=\"balanced\"`.  "
      ],
      "metadata": {
        "id": "h-VA1bsj_-aW"
      }
    },
    {
      "cell_type": "code",
      "source": [
        "log_reg_bal = LogisticRegression(max_iter=1000, class_weight=\"balanced\", random_state=42)\n",
        "log_reg_bal.fit(X_train_scaled, y_train)\n",
        "y_test_pred_bal = log_reg_bal.predict(X_test_scaled)\n",
        "\n",
        "print(\"Balanced Logistic Regression - Test Accuracy:\", accuracy_score(y_test, y_test_pred_bal))\n",
        "print(\"Balanced Logistic Regression - Test F1:\", f1_score(y_test, y_test_pred_bal))"
      ],
      "metadata": {
        "colab": {
          "base_uri": "https://localhost:8080/"
        },
        "id": "-BRUx39g_HWV",
        "outputId": "13fb9602-ec51-4c01-d8fd-b445106c67fb"
      },
      "execution_count": 11,
      "outputs": [
        {
          "output_type": "stream",
          "name": "stdout",
          "text": [
            "Balanced Logistic Regression - Test Accuracy: 0.7524461839530333\n",
            "Balanced Logistic Regression - Test F1: 0.24024024024024024\n"
          ]
        }
      ]
    },
    {
      "cell_type": "markdown",
      "source": [
        "## 🔄 Improvement 2: SMOTE Oversampling\n",
        "We oversample the minority class (stroke=1) using **SMOTE** and retrain Logistic Regression.  "
      ],
      "metadata": {
        "id": "sQwsmnLc_7P3"
      }
    },
    {
      "cell_type": "code",
      "source": [
        "sm = SMOTE(random_state=42)\n",
        "X_res, y_res = sm.fit_resample(X_train_scaled, y_train)\n",
        "\n",
        "log_reg_smote = LogisticRegression(max_iter=1000, random_state=42)\n",
        "log_reg_smote.fit(X_res, y_res)\n",
        "y_test_pred_smote = log_reg_smote.predict(X_test_scaled)\n",
        "\n",
        "print(\"SMOTE Logistic Regression - Test Accuracy:\", accuracy_score(y_test, y_test_pred_smote))\n",
        "print(\"SMOTE Logistic Regression - Test F1:\", f1_score(y_test, y_test_pred_smote))"
      ],
      "metadata": {
        "colab": {
          "base_uri": "https://localhost:8080/"
        },
        "id": "X6VXD2wk_3z_",
        "outputId": "20f4462a-2cb5-4a00-c7f6-c9cc0aa91940"
      },
      "execution_count": 12,
      "outputs": [
        {
          "output_type": "stream",
          "name": "stdout",
          "text": [
            "SMOTE Logistic Regression - Test Accuracy: 0.7602739726027398\n",
            "SMOTE Logistic Regression - Test F1: 0.24615384615384617\n"
          ]
        }
      ]
    },
    {
      "cell_type": "markdown",
      "source": [
        "## 🌳 Improvement 3: Random Forest Classifier\n",
        "Tree-based models like Random Forest can capture complex patterns.  "
      ],
      "metadata": {
        "id": "zzPt6j9fAEQF"
      }
    },
    {
      "cell_type": "code",
      "source": [
        "from sklearn.metrics import accuracy_score, f1_score\n",
        "\n",
        "rf = RandomForestClassifier(random_state=42, class_weight=\"balanced\")\n",
        "rf.fit(X_train, y_train)\n",
        "y_test_pred_rf = rf.predict(X_test)\n",
        "\n",
        "print(\"Random Forest - Test Accuracy:\", accuracy_score(y_test, y_test_pred_rf))\n",
        "print(\"Random Forest - Test F1:\", f1_score(y_test, y_test_pred_rf, average='weighted'))"
      ],
      "metadata": {
        "colab": {
          "base_uri": "https://localhost:8080/"
        },
        "id": "vzNd2bSKABnx",
        "outputId": "d3f05cd6-87fa-49f1-87fa-cd5a1c413c2c"
      },
      "execution_count": 14,
      "outputs": [
        {
          "output_type": "stream",
          "name": "stdout",
          "text": [
            "Random Forest - Test Accuracy: 0.9500978473581213\n",
            "Random Forest - Test F1: 0.9267386930577962\n"
          ]
        }
      ]
    },
    {
      "cell_type": "markdown",
      "source": [
        "# ✅ Conclusion\n",
        "- **Baseline Logistic Regression** achieved high accuracy but very low F1 for stroke detection (class imbalance issue).  \n",
        "- **Balanced Logistic Regression** improved recall and F1 slightly.  \n",
        "- **SMOTE + Logistic Regression** gave better balance in predictions.  \n",
        "- **Random Forest** further improved minority class detection.  \n",
        "\n",
        "This shows the importance of handling **imbalanced datasets** when building classification models.  "
      ],
      "metadata": {
        "id": "zO4EUbD5Ajit"
      }
    }
  ]
}